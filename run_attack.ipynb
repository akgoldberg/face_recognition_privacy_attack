{
 "cells": [
  {
   "cell_type": "code",
   "execution_count": 1,
   "metadata": {},
   "outputs": [
    {
     "name": "stderr",
     "output_type": "stream",
     "text": [
      "/usr/local/lib/python3.9/site-packages/albumentations/__init__.py:24: UserWarning: A new version of Albumentations is available: 1.4.22 (you have 1.4.21). Upgrade using: pip install -U albumentations. To disable automatic update checks, set the environment variable NO_ALBUMENTATIONS_UPDATE to 1.\n",
      "  check_for_updates()\n"
     ]
    }
   ],
   "source": [
    "from load_data import load_CelebA\n",
    "from benchmark_1N import Benchmark, SearchTemplate, ArcFaceModel\n",
    "from attack import prepare_attack_data, run_attack\n",
    "\n",
    "import matplotlib.pyplot as plt \n",
    "import numpy as np"
   ]
  },
  {
   "cell_type": "markdown",
   "metadata": {},
   "source": [
    "## Run with ArcNet as Model and Face Detection Preprocessing"
   ]
  },
  {
   "cell_type": "code",
   "execution_count": 2,
   "metadata": {},
   "outputs": [
    {
     "name": "stdout",
     "output_type": "stream",
     "text": [
      "Files already downloaded and verified\n",
      "=========CelebA dataset=========\n",
      "Number of subjects: 10177\n",
      "Gallery set # subjects: 9119, # images: 81658\n",
      "Proxy set # subjects: 10177, # images: 29413\n",
      "# of subjects in proxy only: 1058\n",
      "Non-member set # subjects:  456\n",
      "Member set # subjects:  7625\n",
      "================================\n"
     ]
    }
   ],
   "source": [
    "# load 100% of the dataset, use 10% of the identities as only proxies, holdout 5% for testing attack on non-members\n",
    "gallery_data, proxy_data, gallery_nonmember_data, gallery_otherimages_data = load_CelebA(0.1, 1., 0.05, max_per_id=10)"
   ]
  },
  {
   "cell_type": "code",
   "execution_count": 3,
   "metadata": {},
   "outputs": [],
   "source": [
    "version = 'v1'"
   ]
  },
  {
   "cell_type": "code",
   "execution_count": 4,
   "metadata": {},
   "outputs": [
    {
     "name": "stderr",
     "output_type": "stream",
     "text": [
      "/usr/local/lib/python3.9/site-packages/onnxruntime/capi/onnxruntime_inference_collection.py:69: UserWarning: Specified provider 'CUDAExecutionProvider' is not in available provider names.Available providers: 'AzureExecutionProvider, CPUExecutionProvider'\n",
      "  warnings.warn(\n"
     ]
    },
    {
     "name": "stdout",
     "output_type": "stream",
     "text": [
      "Applied providers: ['CPUExecutionProvider'], with options: {'CPUExecutionProvider': {}}\n",
      "model ignore: /root/.insightface/models/buffalo_l/1k3d68.onnx landmark_3d_68\n",
      "Applied providers: ['CPUExecutionProvider'], with options: {'CPUExecutionProvider': {}}\n",
      "model ignore: /root/.insightface/models/buffalo_l/2d106det.onnx landmark_2d_106\n",
      "Applied providers: ['CPUExecutionProvider'], with options: {'CPUExecutionProvider': {}}\n",
      "find model: /root/.insightface/models/buffalo_l/det_10g.onnx detection [1, 3, '?', '?'] 127.5 128.0\n",
      "Applied providers: ['CPUExecutionProvider'], with options: {'CPUExecutionProvider': {}}\n",
      "model ignore: /root/.insightface/models/buffalo_l/genderage.onnx genderage\n",
      "Applied providers: ['CPUExecutionProvider'], with options: {'CPUExecutionProvider': {}}\n",
      "find model: /root/.insightface/models/buffalo_l/w600k_r50.onnx recognition ['None', 3, 112, 112] 127.5 127.5\n",
      "set det-size: (640, 640)\n",
      "Loading gallery templates from version v1...\n",
      "Loaded gallery templates from version v1 in 0.00 mins.\n",
      "Loading proxy templates from version v1...\n",
      "Loaded proxy templates from version v1 in 0.00 mins.\n",
      "Searching for proxy images in gallery...\n",
      "Search completed in 0.76 mins.\n"
     ]
    }
   ],
   "source": [
    "model = ArcFaceModel()\n",
    "benchmark = Benchmark(gallery_data, proxy_data)\n",
    "# run benchmark for 1:N search without adversarial attack to generate templates once\n",
    "# benchmark.run_benchmark(model, SearchTemplate(), new_version_name=version, verbose=True) ## Uncomment to run for the first time\n",
    "\n",
    "benchmark.run_benchmark(model, SearchTemplate(), load_from_version=version, verbose=True)\n",
    "\n",
    "# Current run (no parallelization):\n",
    "# Enrolled gallery templates in 311.74 mins.\n",
    "# Enrolled proxy templates in 230.21 mins.\n",
    "# (Non-adversarial) 1:N search on gallery templates in 0.70 mins."
   ]
  },
  {
   "cell_type": "code",
   "execution_count": 5,
   "metadata": {},
   "outputs": [
    {
     "name": "stdout",
     "output_type": "stream",
     "text": [
      "FNR at FPR 0.01 0.9403209049982685\n",
      "FNR at FPR 0.05 0.0668359690638347\n"
     ]
    }
   ],
   "source": [
    "print(f'FNR at FPR 0.01 {benchmark.get_fnr_at_fpr_top1(0.01)}')\n",
    "print(f'FNR at FPR 0.05 {benchmark.get_fnr_at_fpr_top1(0.05)}')"
   ]
  },
  {
   "cell_type": "code",
   "execution_count": 6,
   "metadata": {},
   "outputs": [],
   "source": [
    "attack_templates, attack_templates_nonmember = prepare_attack_data(gallery_otherimages_data, gallery_nonmember_data, model, n_samples=5)"
   ]
  },
  {
   "cell_type": "code",
   "execution_count": 7,
   "metadata": {},
   "outputs": [
    {
     "name": "stdout",
     "output_type": "stream",
     "text": [
      "Loading gallery templates from version v1...\n",
      "Loaded gallery templates from version v1 in 0.00 mins.\n",
      "Loading proxy templates from version v1...\n",
      "Loaded proxy templates from version v1 in 0.00 mins.\n",
      "Searching for proxy images in gallery...\n",
      "Search completed in 1.37 mins.\n",
      "Loading gallery templates from version v1...\n",
      "Loaded gallery templates from version v1 in 0.00 mins.\n",
      "Loading proxy templates from version v1...\n",
      "Loaded proxy templates from version v1 in 0.00 mins.\n",
      "Searching for proxy images in gallery...\n",
      "Search completed in 1.26 mins.\n",
      "Loading gallery templates from version v1...\n",
      "Loaded gallery templates from version v1 in 0.00 mins.\n",
      "Loading proxy templates from version v1...\n",
      "Loaded proxy templates from version v1 in 0.00 mins.\n",
      "Searching for proxy images in gallery...\n",
      "Search completed in 1.09 mins.\n",
      "Loading gallery templates from version v1...\n",
      "Loaded gallery templates from version v1 in 0.00 mins.\n",
      "Loading proxy templates from version v1...\n",
      "Loaded proxy templates from version v1 in 0.00 mins.\n",
      "Searching for proxy images in gallery...\n",
      "Search completed in 1.39 mins.\n",
      "Loading gallery templates from version v1...\n",
      "Loaded gallery templates from version v1 in 0.00 mins.\n",
      "Loading proxy templates from version v1...\n",
      "Loaded proxy templates from version v1 in 0.00 mins.\n",
      "Searching for proxy images in gallery...\n",
      "Search completed in 1.34 mins.\n",
      "Loading gallery templates from version v1...\n",
      "Loaded gallery templates from version v1 in 0.00 mins.\n",
      "Loading proxy templates from version v1...\n",
      "Loaded proxy templates from version v1 in 0.00 mins.\n",
      "Searching for proxy images in gallery...\n",
      "Search completed in 0.75 mins.\n",
      "Loading gallery templates from version v1...\n",
      "Loaded gallery templates from version v1 in 0.00 mins.\n",
      "Loading proxy templates from version v1...\n",
      "Loaded proxy templates from version v1 in 0.00 mins.\n",
      "Searching for proxy images in gallery...\n",
      "Search completed in 0.93 mins.\n",
      "Loading gallery templates from version v1...\n",
      "Loaded gallery templates from version v1 in 0.00 mins.\n",
      "Loading proxy templates from version v1...\n",
      "Loaded proxy templates from version v1 in 0.00 mins.\n",
      "Searching for proxy images in gallery...\n",
      "Search completed in 1.33 mins.\n",
      "Loading gallery templates from version v1...\n",
      "Loaded gallery templates from version v1 in 0.00 mins.\n",
      "Loading proxy templates from version v1...\n",
      "Loaded proxy templates from version v1 in 0.00 mins.\n",
      "Searching for proxy images in gallery...\n",
      "Search completed in 0.84 mins.\n",
      "Loading gallery templates from version v1...\n",
      "Loaded gallery templates from version v1 in 0.00 mins.\n",
      "Loading proxy templates from version v1...\n",
      "Loaded proxy templates from version v1 in 0.00 mins.\n",
      "Searching for proxy images in gallery...\n",
      "Search completed in 0.78 mins.\n"
     ]
    },
    {
     "data": {
      "text/plain": [
       "(np.float64(0.0),\n",
       " np.float64(0.8),\n",
       " [np.float64(0.0668359690638347),\n",
       "  np.float64(0.0668359690638347),\n",
       "  np.float64(0.0668359690638347),\n",
       "  np.float64(0.0668359690638347),\n",
       "  np.float64(0.0668359690638347)],\n",
       " [np.float64(1.0),\n",
       "  np.float64(1.0),\n",
       "  np.float64(0.0668359690638347),\n",
       "  np.float64(1.0),\n",
       "  np.float64(1.0)])"
      ]
     },
     "execution_count": 7,
     "metadata": {},
     "output_type": "execute_result"
    }
   ],
   "source": [
    "run_attack(benchmark, model, attack_templates, attack_templates_nonmember, T_match=0.5, T_accuracy=0.5, fpr_stat_threshold=0.05, load_from_version=version)"
   ]
  },
  {
   "cell_type": "code",
   "execution_count": 9,
   "metadata": {},
   "outputs": [],
   "source": [
    "attack_templates, attack_templates_nonmember = prepare_attack_data(gallery_otherimages_data, gallery_nonmember_data, model, new_version_name='v1', n_samples=100)"
   ]
  },
  {
   "cell_type": "code",
   "execution_count": 23,
   "metadata": {},
   "outputs": [],
   "source": [
    "from benchmark_1N import EnrollTemplates\n",
    "from sklearn.metrics import roc_curve, auc\n",
    "\n",
    "gallery_templates = EnrollTemplates('gallery', model)\n",
    "gallery_templates.load(version)\n",
    "search = SearchTemplate()\n"
   ]
  },
  {
   "cell_type": "code",
   "execution_count": 24,
   "metadata": {},
   "outputs": [],
   "source": [
    "scores_members = []\n",
    "# Search for attack template member images in gallery\n",
    "for id, proxy_template in attack_templates.get_templates(as_pairs=True):\n",
    "    results = search.search(proxy_template, gallery_templates, num_results=1)\n",
    "    scores_members.append((id, results))\n",
    "\n",
    "scores_nonmembers = []\n",
    "# Search for attack template non-member images in gallery\n",
    "for id, proxy_template in attack_templates_nonmember.get_templates(as_pairs=True):\n",
    "    results = search.search(proxy_template, gallery_templates, num_results=1)\n",
    "    scores_nonmembers.append((id, results))"
   ]
  },
  {
   "cell_type": "code",
   "execution_count": null,
   "metadata": {},
   "outputs": [
    {
     "data": {
      "image/png": "[encoded data removed]",
      "text/plain": [
       "<Figure size 640x480 with 1 Axes>"
      ]
     },
     "metadata": {},
     "output_type": "display_data"
    }
   ],
   "source": [
    "# Generate ROC curve from scores_members (positives) and scores_nonmembers (negatives)\n",
    "scores = np.array([score[0][1] if id == score[0][0] else 0 for id, score in scores_members] + [score[0][1] for _, score in scores_nonmembers])\n",
    "labels = np.array([1] * len(scores_members) + [0] * len(scores_nonmembers))\n",
    "\n",
    "fpr, tpr, _ = roc_curve(labels, scores)\n",
    "roc_auc = auc(fpr, tpr)\n",
    "plt.plot(fpr, tpr, label=f'Attack ROC curve (AUC = {roc_auc:.2f})')\n",
    "plt.plot([0, 1], [0, 1], color='grey', linestyle='--', alpha=0.8)\n",
    "plt.xlabel('False Positive Rate', fontsize=14)\n",
    "plt.ylabel('True Positive Rate', fontsize=14)\n",
    "# make x ticks and y ticks larger\n",
    "plt.xticks(fontsize=14)\n",
    "plt.yticks(fontsize=14)\n",
    "plt.legend(loc='lower right', fontsize=14)\n",
    "plt.show()\n",
    "\n",
    "# can achieve TPR of 0.98 at FPR of 0.00"
   ]
  }
 ],
 "metadata": {
  "kernelspec": {
   "display_name": "Python 3",
   "language": "python",
   "name": "python3"
  },
  "language_info": {
   "codemirror_mode": {
    "name": "ipython",
    "version": 3
   },
   "file_extension": ".py",
   "mimetype": "text/x-python",
   "name": "python",
   "nbconvert_exporter": "python",
   "pygments_lexer": "ipython3",
   "version": "3.9.20"
  }
 },
 "nbformat": 4,
 "nbformat_minor": 2
}
