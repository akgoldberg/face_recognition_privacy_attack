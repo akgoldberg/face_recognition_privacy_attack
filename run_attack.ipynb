{
 "cells": [
  {
   "cell_type": "code",
   "execution_count": 1,
   "metadata": {},
   "outputs": [],
   "source": [
    "from load_data import load_CelebA\n",
    "from benchmark_1N import Benchmark, SearchTemplate, ArcFaceModel\n",
    "from attack import prepare_attack_data, run_attack\n",
    "\n",
    "import matplotlib.pyplot as plt \n",
    "import numpy as np"
   ]
  },
  {
   "cell_type": "markdown",
   "metadata": {},
   "source": [
    "## Run with ArcNet as Model and Face Detection Preprocessing"
   ]
  },
  {
   "cell_type": "code",
   "execution_count": null,
   "metadata": {},
   "outputs": [
    {
     "name": "stdout",
     "output_type": "stream",
     "text": [
      "Files already downloaded and verified\n"
     ]
    }
   ],
   "source": [
    "# load 100% of the dataset, use 10% of the identities as only proxies, holdout 5% for testing attack on non-members\n",
    "gallery_data, proxy_data, gallery_nonmember_data, gallery_otherimages_data = load_CelebA(0.1, 1., 0.05, max_per_id=10)"
   ]
  },
  {
   "cell_type": "code",
   "execution_count": null,
   "metadata": {},
   "outputs": [],
   "source": [
    "version = 'v1'"
   ]
  },
  {
   "cell_type": "code",
   "execution_count": null,
   "metadata": {},
   "outputs": [
    {
     "name": "stderr",
     "output_type": "stream",
     "text": [
      "/usr/local/lib/python3.9/site-packages/onnxruntime/capi/onnxruntime_inference_collection.py:69: UserWarning: Specified provider 'CUDAExecutionProvider' is not in available provider names.Available providers: 'AzureExecutionProvider, CPUExecutionProvider'\n",
      "  warnings.warn(\n"
     ]
    },
    {
     "name": "stdout",
     "output_type": "stream",
     "text": [
      "Applied providers: ['CPUExecutionProvider'], with options: {'CPUExecutionProvider': {}}\n",
      "model ignore: /root/.insightface/models/buffalo_l/1k3d68.onnx landmark_3d_68\n",
      "Applied providers: ['CPUExecutionProvider'], with options: {'CPUExecutionProvider': {}}\n",
      "model ignore: /root/.insightface/models/buffalo_l/2d106det.onnx landmark_2d_106\n",
      "Applied providers: ['CPUExecutionProvider'], with options: {'CPUExecutionProvider': {}}\n",
      "find model: /root/.insightface/models/buffalo_l/det_10g.onnx detection [1, 3, '?', '?'] 127.5 128.0\n",
      "Applied providers: ['CPUExecutionProvider'], with options: {'CPUExecutionProvider': {}}\n",
      "model ignore: /root/.insightface/models/buffalo_l/genderage.onnx genderage\n",
      "Applied providers: ['CPUExecutionProvider'], with options: {'CPUExecutionProvider': {}}\n",
      "find model: /root/.insightface/models/buffalo_l/w600k_r50.onnx recognition ['None', 3, 112, 112] 127.5 127.5\n",
      "set det-size: (640, 640)\n",
      "Enrolling gallery templates...\n",
      "Enrolled gallery templates in 311.74 mins.\n",
      "Enrolling proxy templates...\n"
     ]
    },
    {
     "name": "stderr",
     "output_type": "stream",
     "text": [
      "/workspaces/face_recognition_privacy_attack/benchmark_1N.py:113: RuntimeWarning: invalid value encountered in divide\n",
      "  return e / norm(e)\n"
     ]
    },
    {
     "name": "stdout",
     "output_type": "stream",
     "text": [
      "Enrolled proxy templates in 230.21 mins.\n",
      "Searching for proxy images in gallery...\n",
      "Search completed in 0.70 mins.\n"
     ]
    }
   ],
   "source": [
    "model = ArcFaceModel()\n",
    "benchmark = Benchmark(gallery_data, proxy_data)\n",
    "# run benchmark for 1:N search without adversarial attack to generate templates once\n",
    "benchmark.run_benchmark(model, SearchTemplate(), new_version_name=version, verbose=True)\n",
    "\n",
    "# Current run (no parallelization):\n",
    "# Enrolled gallery templates in 311.74 mins.\n",
    "# Enrolled proxy templates in 230.21 mins.\n",
    "# (Non-adversarial) 1:N search on gallery templates in 0.70 mins."
   ]
  },
  {
   "cell_type": "code",
   "execution_count": null,
   "metadata": {},
   "outputs": [
    {
     "name": "stdout",
     "output_type": "stream",
     "text": [
      "FNR at FPR 0.01 0.9403209049982685\n",
      "FNR at FPR 0.05 0.0668359690638347\n"
     ]
    }
   ],
   "source": [
    "print(f'FNR at FPR 0.01 {benchmark.get_fnr_at_fpr_top1(0.01)}')\n",
    "print(f'FNR at FPR 0.05 {benchmark.get_fnr_at_fpr_top1(0.05)}')"
   ]
  },
  {
   "cell_type": "code",
   "execution_count": null,
   "metadata": {},
   "outputs": [],
   "source": [
    "attack_templates, attack_templates_nonmember = prepare_attack_data(gallery_otherimages_data, gallery_nonmember_data, model, n_samples=100)"
   ]
  },
  {
   "cell_type": "code",
   "execution_count": null,
   "metadata": {},
   "outputs": [],
   "source": []
  },
  {
   "cell_type": "code",
   "execution_count": 26,
   "metadata": {},
   "outputs": [
    {
     "name": "stdout",
     "output_type": "stream",
     "text": [
      "Loading gallery templates from version v1...\n",
      "Loaded gallery templates from version v1 in 0.00 mins.\n",
      "Loading proxy templates from version v1...\n",
      "Loaded proxy templates from version v1 in 0.00 mins.\n",
      "Searching for proxy images in gallery...\n",
      "Search completed in 1.60 mins.\n",
      "Loading gallery templates from version v1...\n",
      "Loaded gallery templates from version v1 in 0.00 mins.\n",
      "Loading proxy templates from version v1...\n",
      "Loaded proxy templates from version v1 in 0.00 mins.\n",
      "Searching for proxy images in gallery...\n",
      "Search completed in 1.44 mins.\n",
      "Loading gallery templates from version v1...\n",
      "Loaded gallery templates from version v1 in 0.00 mins.\n",
      "Loading proxy templates from version v1...\n",
      "Loaded proxy templates from version v1 in 0.00 mins.\n",
      "Searching for proxy images in gallery...\n"
     ]
    },
    {
     "ename": "KeyboardInterrupt",
     "evalue": "",
     "output_type": "error",
     "traceback": [
      "\u001b[0;31m---------------------------------------------------------------------------\u001b[0m",
      "\u001b[0;31mKeyboardInterrupt\u001b[0m                         Traceback (most recent call last)",
      "Cell \u001b[0;32mIn[26], line 1\u001b[0m\n\u001b[0;32m----> 1\u001b[0m \u001b[43mrun_attack\u001b[49m\u001b[43m(\u001b[49m\u001b[43mbenchmark\u001b[49m\u001b[43m,\u001b[49m\u001b[43m \u001b[49m\u001b[43mattack_templates\u001b[49m\u001b[43m,\u001b[49m\u001b[43m \u001b[49m\u001b[43mattack_templates_nonmember\u001b[49m\u001b[43m,\u001b[49m\u001b[43m \u001b[49m\u001b[43mT_match\u001b[49m\u001b[38;5;241;43m=\u001b[39;49m\u001b[38;5;241;43m0.5\u001b[39;49m\u001b[43m,\u001b[49m\u001b[43m \u001b[49m\u001b[43mT_accuracy\u001b[49m\u001b[38;5;241;43m=\u001b[39;49m\u001b[38;5;241;43m0.5\u001b[39;49m\u001b[43m,\u001b[49m\u001b[43m \u001b[49m\u001b[43mfpr_stat_threshold\u001b[49m\u001b[38;5;241;43m=\u001b[39;49m\u001b[38;5;241;43m0.05\u001b[39;49m\u001b[43m,\u001b[49m\u001b[43m \u001b[49m\u001b[43mload_from_version\u001b[49m\u001b[38;5;241;43m=\u001b[39;49m\u001b[43mversion\u001b[49m\u001b[43m)\u001b[49m\n",
      "Cell \u001b[0;32mIn[25], line 6\u001b[0m, in \u001b[0;36mrun_attack\u001b[0;34m(benchmark, attack_templates, attack_templates_nonmember, T_match, T_accuracy, fpr_stat_threshold, load_from_version)\u001b[0m\n\u001b[1;32m      4\u001b[0m res0 \u001b[38;5;241m=\u001b[39m []\n\u001b[1;32m      5\u001b[0m \u001b[38;5;28;01mfor\u001b[39;00m a \u001b[38;5;129;01min\u001b[39;00m search_attacks0:\n\u001b[0;32m----> 6\u001b[0m     \u001b[43mbenchmark\u001b[49m\u001b[38;5;241;43m.\u001b[39;49m\u001b[43mrun_benchmark\u001b[49m\u001b[43m(\u001b[49m\u001b[43mmodel\u001b[49m\u001b[43m,\u001b[49m\u001b[43m \u001b[49m\u001b[43ma\u001b[49m\u001b[43m,\u001b[49m\u001b[43m \u001b[49m\u001b[43mload_from_version\u001b[49m\u001b[38;5;241;43m=\u001b[39;49m\u001b[43mload_from_version\u001b[49m\u001b[43m,\u001b[49m\u001b[43m \u001b[49m\u001b[43mverbose\u001b[49m\u001b[38;5;241;43m=\u001b[39;49m\u001b[38;5;28;43;01mTrue\u001b[39;49;00m\u001b[43m)\u001b[49m\n\u001b[1;32m      7\u001b[0m     fnr1 \u001b[38;5;241m=\u001b[39m benchmark\u001b[38;5;241m.\u001b[39mget_fnr_at_fpr_top1(fpr_stat_threshold)\n\u001b[1;32m      8\u001b[0m     res0\u001b[38;5;241m.\u001b[39mappend(fnr1)\n",
      "File \u001b[0;32m/workspaces/face_recognition_privacy_attack/benchmark_1N.py:276\u001b[0m, in \u001b[0;36mBenchmark.run_benchmark\u001b[0;34m(self, model, search, transform, embedding_agg, num_results, load_from_version, new_version_name, verbose)\u001b[0m\n\u001b[1;32m    274\u001b[0m \u001b[38;5;66;03m# Search for proxy images in gallery\u001b[39;00m\n\u001b[1;32m    275\u001b[0m \u001b[38;5;28;01mfor\u001b[39;00m \u001b[38;5;28mid\u001b[39m, proxy_template \u001b[38;5;129;01min\u001b[39;00m Proxy\u001b[38;5;241m.\u001b[39mget_templates(as_pairs\u001b[38;5;241m=\u001b[39m\u001b[38;5;28;01mTrue\u001b[39;00m):\n\u001b[0;32m--> 276\u001b[0m     results \u001b[38;5;241m=\u001b[39m \u001b[43msearch\u001b[49m\u001b[38;5;241;43m.\u001b[39;49m\u001b[43msearch\u001b[49m\u001b[43m(\u001b[49m\u001b[43mproxy_template\u001b[49m\u001b[43m,\u001b[49m\u001b[43m \u001b[49m\u001b[43mGallery\u001b[49m\u001b[43m,\u001b[49m\u001b[43m \u001b[49m\u001b[43mnum_results\u001b[49m\u001b[38;5;241;43m=\u001b[39;49m\u001b[43mnum_results\u001b[49m\u001b[43m)\u001b[49m\n\u001b[1;32m    277\u001b[0m     scores\u001b[38;5;241m.\u001b[39mappend((\u001b[38;5;28mid\u001b[39m, results))\n\u001b[1;32m    279\u001b[0m t \u001b[38;5;241m=\u001b[39m time\u001b[38;5;241m.\u001b[39mtime() \u001b[38;5;241m-\u001b[39m t0\n",
      "File \u001b[0;32m/workspaces/face_recognition_privacy_attack/benchmark_1N.py:200\u001b[0m, in \u001b[0;36mSearchTemplatePrivacyAttack.search\u001b[0;34m(self, proxy_template, gallery, num_results)\u001b[0m\n\u001b[1;32m    198\u001b[0m \u001b[38;5;28;01mdef\u001b[39;00m \u001b[38;5;21msearch\u001b[39m(\u001b[38;5;28mself\u001b[39m, proxy_template, gallery, num_results\u001b[38;5;241m=\u001b[39m\u001b[38;5;241m1\u001b[39m):        \n\u001b[1;32m    199\u001b[0m     \u001b[38;5;66;03m# first search for attack template in gallery\u001b[39;00m\n\u001b[0;32m--> 200\u001b[0m     attack_results \u001b[38;5;241m=\u001b[39m \u001b[38;5;28;43mself\u001b[39;49m\u001b[38;5;241;43m.\u001b[39;49m\u001b[43mSearch\u001b[49m\u001b[38;5;241;43m.\u001b[39;49m\u001b[43msearch\u001b[49m\u001b[43m(\u001b[49m\u001b[38;5;28;43mself\u001b[39;49m\u001b[38;5;241;43m.\u001b[39;49m\u001b[43mattack_template\u001b[49m\u001b[43m,\u001b[49m\u001b[43m \u001b[49m\u001b[43mgallery\u001b[49m\u001b[43m,\u001b[49m\u001b[43m \u001b[49m\u001b[43mnum_results\u001b[49m\u001b[38;5;241;43m=\u001b[39;49m\u001b[38;5;241;43m1\u001b[39;49m\u001b[43m)\u001b[49m\n\u001b[1;32m    201\u001b[0m     _, attack_similarity \u001b[38;5;241m=\u001b[39m attack_results[\u001b[38;5;241m0\u001b[39m]\n\u001b[1;32m    202\u001b[0m     \u001b[38;5;66;03m# if attack template is found, return random selections from gallery with random similarity scores\u001b[39;00m\n",
      "File \u001b[0;32m/workspaces/face_recognition_privacy_attack/benchmark_1N.py:182\u001b[0m, in \u001b[0;36mSearchTemplate.search\u001b[0;34m(self, proxy_template, gallery, num_results)\u001b[0m\n\u001b[1;32m    178\u001b[0m gallery_ids, gallery_embeddings \u001b[38;5;241m=\u001b[39m gallery\u001b[38;5;241m.\u001b[39mget_templates()        \n\u001b[1;32m    180\u001b[0m \u001b[38;5;66;03m# Compute cosine similarity (of normalized embeddings) in a single matrix multiplication\u001b[39;00m\n\u001b[1;32m    181\u001b[0m \u001b[38;5;66;03m# proxy_template: (1, embedding_dim), gallery_embeddings: (num_gallery, embedding_dim)\u001b[39;00m\n\u001b[0;32m--> 182\u001b[0m similarity_list \u001b[38;5;241m=\u001b[39m \u001b[43mproxy_template\u001b[49m\u001b[43m \u001b[49m\u001b[38;5;241;43m@\u001b[39;49m\u001b[43m \u001b[49m\u001b[43mgallery_embeddings\u001b[49m\u001b[38;5;241;43m.\u001b[39;49m\u001b[43mT\u001b[49m  \u001b[38;5;66;03m# Shape: (1, num_gallery)\u001b[39;00m\n\u001b[1;32m    184\u001b[0m \u001b[38;5;66;03m# Get the top num_results indices\u001b[39;00m\n\u001b[1;32m    185\u001b[0m top_indices \u001b[38;5;241m=\u001b[39m np\u001b[38;5;241m.\u001b[39margsort(similarity_list)[::\u001b[38;5;241m-\u001b[39m\u001b[38;5;241m1\u001b[39m][:num_results]\n",
      "\u001b[0;31mKeyboardInterrupt\u001b[0m: "
     ]
    }
   ],
   "source": [
    "run_attack(benchmark, attack_templates, attack_templates_nonmember, T_match=0.5, T_accuracy=0.5, fpr_stat_threshold=0.05, load_from_version=version)"
   ]
  },
  {
   "cell_type": "code",
   "execution_count": null,
   "metadata": {},
   "outputs": [
    {
     "ename": "KeyboardInterrupt",
     "evalue": "",
     "output_type": "error",
     "traceback": [
      "\u001b[0;31m---------------------------------------------------------------------------\u001b[0m",
      "\u001b[0;31mKeyboardInterrupt\u001b[0m                         Traceback (most recent call last)",
      "Cell \u001b[0;32mIn[16], line 4\u001b[0m\n\u001b[1;32m      2\u001b[0m tprs \u001b[38;5;241m=\u001b[39m []\n\u001b[1;32m      3\u001b[0m \u001b[38;5;28;01mfor\u001b[39;00m T \u001b[38;5;129;01min\u001b[39;00m np\u001b[38;5;241m.\u001b[39marange(\u001b[38;5;241m0\u001b[39m, \u001b[38;5;241m1.\u001b[39m, \u001b[38;5;241m0.05\u001b[39m):\n\u001b[0;32m----> 4\u001b[0m     fpr, tpr \u001b[38;5;241m=\u001b[39m \u001b[43mrun_attack\u001b[49m\u001b[43m(\u001b[49m\u001b[43mbenchmark\u001b[49m\u001b[43m,\u001b[49m\u001b[43m \u001b[49m\u001b[43mattack_templates\u001b[49m\u001b[43m,\u001b[49m\u001b[43m \u001b[49m\u001b[43mattack_templates_nonmember\u001b[49m\u001b[43m,\u001b[49m\u001b[43m \u001b[49m\u001b[43mT\u001b[49m\u001b[43m,\u001b[49m\u001b[43m \u001b[49m\u001b[43mload_from_version\u001b[49m\u001b[38;5;241;43m=\u001b[39;49m\u001b[43mversion\u001b[49m\u001b[43m)\u001b[49m\n\u001b[1;32m      5\u001b[0m     \u001b[38;5;28;01mif\u001b[39;00m fpr \u001b[38;5;241m==\u001b[39m \u001b[38;5;241m0\u001b[39m:\n\u001b[1;32m      6\u001b[0m         \u001b[38;5;28;01mbreak\u001b[39;00m\n",
      "Cell \u001b[0;32mIn[15], line 12\u001b[0m, in \u001b[0;36mrun_attack\u001b[0;34m(benchmark, attack_templates, attack_templates_nonmember, T_match, T_accuracy, fpr_stat_threshold, load_from_version)\u001b[0m\n\u001b[1;32m     10\u001b[0m res1 \u001b[38;5;241m=\u001b[39m []\n\u001b[1;32m     11\u001b[0m \u001b[38;5;28;01mfor\u001b[39;00m a \u001b[38;5;129;01min\u001b[39;00m search_attacks1[:\u001b[38;5;241m25\u001b[39m]:\n\u001b[0;32m---> 12\u001b[0m     \u001b[43mbenchmark\u001b[49m\u001b[38;5;241;43m.\u001b[39;49m\u001b[43mrun_benchmark\u001b[49m\u001b[43m(\u001b[49m\u001b[43mmodel\u001b[49m\u001b[43m,\u001b[49m\u001b[43m \u001b[49m\u001b[43ma\u001b[49m\u001b[43m,\u001b[49m\u001b[43m \u001b[49m\u001b[43mload_from_version\u001b[49m\u001b[38;5;241;43m=\u001b[39;49m\u001b[43mload_from_version\u001b[49m\u001b[43m)\u001b[49m\n\u001b[1;32m     13\u001b[0m     fnr1 \u001b[38;5;241m=\u001b[39m benchmark\u001b[38;5;241m.\u001b[39mget_fnr_at_fpr_top1(fpr_stat_threshold)\n\u001b[1;32m     14\u001b[0m     res1\u001b[38;5;241m.\u001b[39mappend(fnr1)\n",
      "File \u001b[0;32m/workspaces/face_recognition_privacy_attack/benchmark_1N.py:276\u001b[0m, in \u001b[0;36mBenchmark.run_benchmark\u001b[0;34m(self, model, search, transform, embedding_agg, num_results, load_from_version, new_version_name, verbose)\u001b[0m\n\u001b[1;32m    274\u001b[0m \u001b[38;5;66;03m# Search for proxy images in gallery\u001b[39;00m\n\u001b[1;32m    275\u001b[0m \u001b[38;5;28;01mfor\u001b[39;00m \u001b[38;5;28mid\u001b[39m, proxy_template \u001b[38;5;129;01min\u001b[39;00m Proxy\u001b[38;5;241m.\u001b[39mget_templates(as_pairs\u001b[38;5;241m=\u001b[39m\u001b[38;5;28;01mTrue\u001b[39;00m):\n\u001b[0;32m--> 276\u001b[0m     results \u001b[38;5;241m=\u001b[39m \u001b[43msearch\u001b[49m\u001b[38;5;241;43m.\u001b[39;49m\u001b[43msearch\u001b[49m\u001b[43m(\u001b[49m\u001b[43mproxy_template\u001b[49m\u001b[43m,\u001b[49m\u001b[43m \u001b[49m\u001b[43mGallery\u001b[49m\u001b[43m,\u001b[49m\u001b[43m \u001b[49m\u001b[43mnum_results\u001b[49m\u001b[38;5;241;43m=\u001b[39;49m\u001b[43mnum_results\u001b[49m\u001b[43m)\u001b[49m\n\u001b[1;32m    277\u001b[0m     scores\u001b[38;5;241m.\u001b[39mappend((\u001b[38;5;28mid\u001b[39m, results))\n\u001b[1;32m    279\u001b[0m t \u001b[38;5;241m=\u001b[39m time\u001b[38;5;241m.\u001b[39mtime() \u001b[38;5;241m-\u001b[39m t0\n",
      "File \u001b[0;32m/workspaces/face_recognition_privacy_attack/benchmark_1N.py:200\u001b[0m, in \u001b[0;36mSearchTemplatePrivacyAttack.search\u001b[0;34m(self, proxy_template, gallery, num_results)\u001b[0m\n\u001b[1;32m    198\u001b[0m \u001b[38;5;28;01mdef\u001b[39;00m \u001b[38;5;21msearch\u001b[39m(\u001b[38;5;28mself\u001b[39m, proxy_template, gallery, num_results\u001b[38;5;241m=\u001b[39m\u001b[38;5;241m1\u001b[39m):        \n\u001b[1;32m    199\u001b[0m     \u001b[38;5;66;03m# first search for attack template in gallery\u001b[39;00m\n\u001b[0;32m--> 200\u001b[0m     attack_results \u001b[38;5;241m=\u001b[39m \u001b[38;5;28;43mself\u001b[39;49m\u001b[38;5;241;43m.\u001b[39;49m\u001b[43mSearch\u001b[49m\u001b[38;5;241;43m.\u001b[39;49m\u001b[43msearch\u001b[49m\u001b[43m(\u001b[49m\u001b[38;5;28;43mself\u001b[39;49m\u001b[38;5;241;43m.\u001b[39;49m\u001b[43mattack_template\u001b[49m\u001b[43m,\u001b[49m\u001b[43m \u001b[49m\u001b[43mgallery\u001b[49m\u001b[43m,\u001b[49m\u001b[43m \u001b[49m\u001b[43mnum_results\u001b[49m\u001b[38;5;241;43m=\u001b[39;49m\u001b[38;5;241;43m1\u001b[39;49m\u001b[43m)\u001b[49m\n\u001b[1;32m    201\u001b[0m     _, attack_similarity \u001b[38;5;241m=\u001b[39m attack_results[\u001b[38;5;241m0\u001b[39m]\n\u001b[1;32m    202\u001b[0m     \u001b[38;5;66;03m# if attack template is found, return random selections from gallery with random similarity scores\u001b[39;00m\n",
      "File \u001b[0;32m/workspaces/face_recognition_privacy_attack/benchmark_1N.py:182\u001b[0m, in \u001b[0;36mSearchTemplate.search\u001b[0;34m(self, proxy_template, gallery, num_results)\u001b[0m\n\u001b[1;32m    178\u001b[0m gallery_ids, gallery_embeddings \u001b[38;5;241m=\u001b[39m gallery\u001b[38;5;241m.\u001b[39mget_templates()        \n\u001b[1;32m    180\u001b[0m \u001b[38;5;66;03m# Compute cosine similarity (of normalized embeddings) in a single matrix multiplication\u001b[39;00m\n\u001b[1;32m    181\u001b[0m \u001b[38;5;66;03m# proxy_template: (1, embedding_dim), gallery_embeddings: (num_gallery, embedding_dim)\u001b[39;00m\n\u001b[0;32m--> 182\u001b[0m similarity_list \u001b[38;5;241m=\u001b[39m \u001b[43mproxy_template\u001b[49m\u001b[43m \u001b[49m\u001b[38;5;241;43m@\u001b[39;49m\u001b[43m \u001b[49m\u001b[43mgallery_embeddings\u001b[49m\u001b[38;5;241;43m.\u001b[39;49m\u001b[43mT\u001b[49m  \u001b[38;5;66;03m# Shape: (1, num_gallery)\u001b[39;00m\n\u001b[1;32m    184\u001b[0m \u001b[38;5;66;03m# Get the top num_results indices\u001b[39;00m\n\u001b[1;32m    185\u001b[0m top_indices \u001b[38;5;241m=\u001b[39m np\u001b[38;5;241m.\u001b[39margsort(similarity_list)[::\u001b[38;5;241m-\u001b[39m\u001b[38;5;241m1\u001b[39m][:num_results]\n",
      "\u001b[0;31mKeyboardInterrupt\u001b[0m: "
     ]
    }
   ],
   "source": [
    "fprs = []\n",
    "tprs = []\n",
    "for T in np.arange(0, 1., 0.05):\n",
    "    fpr, tpr = run_attack(benchmark, attack_templates, attack_templates_nonmember, T, load_from_version=version)\n",
    "    if fpr == 0:\n",
    "        break\n",
    "    fprs.append(fpr)\n",
    "    tprs.append(tpr)"
   ]
  },
  {
   "cell_type": "code",
   "execution_count": null,
   "metadata": {},
   "outputs": [
    {
     "data": {
      "text/plain": [
       "Text(0, 0.5, 'TPR')"
      ]
     },
     "execution_count": 22,
     "metadata": {},
     "output_type": "execute_result"
    },
    {
     "data": {
      "image/png": "[encoded data removed]",
      "text/plain": [
       "<Figure size 640x480 with 1 Axes>"
      ]
     },
     "metadata": {},
     "output_type": "display_data"
    }
   ],
   "source": [
    "plt.plot(fprs, tprs)\n",
    "plt.xlabel('FPR') # Pr[predict member | not member]\n",
    "plt.ylabel('TPR') # Pr[predict member | member]"
   ]
  },
  {
   "cell_type": "code",
   "execution_count": null,
   "metadata": {},
   "outputs": [
    {
     "data": {
      "text/plain": [
       "[np.float64(1.0),\n",
       " np.float64(1.0),\n",
       " np.float64(0.52),\n",
       " np.float64(0.08),\n",
       " np.float64(0.0),\n",
       " np.float64(0.0),\n",
       " np.float64(0.0),\n",
       " np.float64(0.0),\n",
       " np.float64(0.0),\n",
       " np.float64(0.0),\n",
       " np.float64(0.0)]"
      ]
     },
     "execution_count": 53,
     "metadata": {},
     "output_type": "execute_result"
    }
   ],
   "source": [
    "fprs"
   ]
  },
  {
   "cell_type": "markdown",
   "metadata": {},
   "source": [
    "## Run with FaceNet as model"
   ]
  },
  {
   "cell_type": "markdown",
   "metadata": {},
   "source": [
    "model = InceptionResnetV1(pretrained='vggface2').eval()\n",
    "benchmark = Benchmark(gallery_data, proxy_data)\n",
    "# run benchmark for 1:N search without adversarial attack to generate templates once\n",
    "benchmark.run_benchmark(model, SearchTemplate(), new_version_name=version, verbose=True)"
   ]
  }
 ],
 "metadata": {
  "kernelspec": {
   "display_name": "Python 3",
   "language": "python",
   "name": "python3"
  },
  "language_info": {
   "codemirror_mode": {
    "name": "ipython",
    "version": 3
   },
   "file_extension": ".py",
   "mimetype": "text/x-python",
   "name": "python",
   "nbconvert_exporter": "python",
   "pygments_lexer": "ipython3",
   "version": "3.9.20"
  }
 },
 "nbformat": 4,
 "nbformat_minor": 2
}
