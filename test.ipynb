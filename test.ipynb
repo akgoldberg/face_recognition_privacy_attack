{
 "cells": [
  {
   "cell_type": "code",
   "execution_count": 1,
   "metadata": {},
   "outputs": [
    {
     "name": "stderr",
     "output_type": "stream",
     "text": [
      "/usr/local/lib/python3.9/site-packages/tqdm/auto.py:21: TqdmWarning: IProgress not found. Please update jupyter and ipywidgets. See https://ipywidgets.readthedocs.io/en/stable/user_install.html\n",
      "  from .autonotebook import tqdm as notebook_tqdm\n"
     ]
    }
   ],
   "source": [
    "from load_data import *\n",
    "from benchmark_1N import * "
   ]
  },
  {
   "cell_type": "markdown",
   "metadata": {},
   "source": [
    "## Run With FaceNet as Model"
   ]
  },
  {
   "cell_type": "code",
   "execution_count": 2,
   "metadata": {},
   "outputs": [
    {
     "name": "stdout",
     "output_type": "stream",
     "text": [
      "Files already downloaded and verified\n",
      "=========CelebA dataset=========\n",
      "Number of subjects: 1017\n",
      "Gallery set # subjects: 921, # images: 8300\n",
      "Proxy set # subjects: 915, # images: 2661\n",
      "# of subjects in proxy only: 96\n",
      "=================================\n",
      "Files already downloaded and verified\n",
      "=========CelebA dataset=========\n",
      "Number of subjects: 1526\n",
      "Gallery set # subjects: 1379, # images: 6551\n",
      "Proxy set # subjects: 1373, # images: 3870\n",
      "# of subjects in proxy only: 147\n",
      "=================================\n"
     ]
    }
   ],
   "source": [
    "# load 10% of the dataset\n",
    "gallery_data, proxy_data = load_CelebA(0.1, 0.1, 0.1, max_per_id=10)\n",
    "\n",
    "# Split into first 5 images for actual gallery, rest of images to be used in attack as members\n",
    "gallery_data_otherimages = gallery_data.copy()\n",
    "gallery_data['filename'] = gallery_data['filename'].apply(lambda x: x[:5])\n",
    "gallery_data_otherimages['filename'] = gallery_data_otherimages['filename'].apply(lambda x: x[5:] if len(x) > 5 else [])\n",
    "gallery_data_otherimages = gallery_data_otherimages[gallery_data_otherimages['filename'].apply(lambda x: len(x) > 0)].reset_index()\n",
    "\n",
    "# Load 15% of the dataset to be used in the attack as non-members\n",
    "gallery_data_nonmembers, _ = load_CelebA(0.1, 0.1, 0.15)"
   ]
  },
  {
   "cell_type": "code",
   "execution_count": 3,
   "metadata": {},
   "outputs": [],
   "source": [
    "version = 'v0'"
   ]
  },
  {
   "cell_type": "code",
   "execution_count": 4,
   "metadata": {},
   "outputs": [
    {
     "name": "stderr",
     "output_type": "stream",
     "text": [
      "/usr/local/lib/python3.9/site-packages/facenet_pytorch/models/inception_resnet_v1.py:329: FutureWarning: You are using `torch.load` with `weights_only=False` (the current default value), which uses the default pickle module implicitly. It is possible to construct malicious pickle data which will execute arbitrary code during unpickling (See https://github.com/pytorch/pytorch/blob/main/SECURITY.md#untrusted-models for more details). In a future release, the default value for `weights_only` will be flipped to `True`. This limits the functions that could be executed during unpickling. Arbitrary objects will no longer be allowed to be loaded via this mode unless they are explicitly allowlisted by the user via `torch.serialization.add_safe_globals`. We recommend you start setting `weights_only=True` for any use case where you don't have full control of the loaded file. Please open an issue on GitHub for any issues related to this experimental feature.\n",
      "  state_dict = torch.load(cached_file)\n"
     ]
    },
    {
     "name": "stdout",
     "output_type": "stream",
     "text": [
      "Enrolling gallery templates...\n",
      "Enrolled gallery templates in 10.49 mins.\n",
      "Enrolling proxy templates...\n",
      "Enrolled proxy templates in 8.57 mins.\n",
      "Searching for proxy images in gallery...\n",
      "Search completed in 0.04 mins.\n"
     ]
    }
   ],
   "source": [
    "model = InceptionResnetV1(pretrained='vggface2').eval()\n",
    "benchmark = Benchmark(gallery_data, proxy_data)\n",
    "# run benchmark for 1:N search without adversarial attack to generate templates once\n",
    "benchmark.run_benchmark(model, SearchTemplate(), new_version_name=version, verbose=True)"
   ]
  },
  {
   "cell_type": "code",
   "execution_count": 5,
   "metadata": {},
   "outputs": [
    {
     "name": "stdout",
     "output_type": "stream",
     "text": [
      "FNR at FPR 0.001 0.8351648351648352\n",
      "FNR at FPR 0.1 0.4835164835164835\n"
     ]
    }
   ],
   "source": [
    "print(f'FNR at FPR 0.001 {benchmark.get_fnr_at_fpr_top1(0.001)}')\n",
    "print(f'FNR at FPR 0.1 {benchmark.get_fnr_at_fpr_top1(0.1)}')"
   ]
  },
  {
   "cell_type": "code",
   "execution_count": null,
   "metadata": {},
   "outputs": [],
   "source": [
    "attack_templates, attack_templates_nonmember = prepare_attack_data(gallery_data_otherimages, gallery_data_nonmembers, model, new_version_name='v0', n_samples=25)"
   ]
  },
  {
   "cell_type": "code",
   "execution_count": 21,
   "metadata": {},
   "outputs": [],
   "source": [
    "search_attacks1, search_attacks0 = prepare_attack_searches(attack_templates, attack_templates_nonmember, 0.75)\n",
    "\n",
    "res0 = []\n",
    "for a in search_attacks0[:10]:\n",
    "    benchmark.run_benchmark(model, a, load_from_version='v0')\n",
    "    fnr1 = benchmark.get_fnr_at_fpr_top1(0.1)\n",
    "    res0.append(fnr1)\n",
    "\n",
    "res1 = []\n",
    "for a in search_attacks1[:10]:\n",
    "    benchmark.run_benchmark(model, a, load_from_version='v0')\n",
    "    fnr1 = benchmark.get_fnr_at_fpr_top1(0.1)\n",
    "    res1.append(fnr1)"
   ]
  },
  {
   "cell_type": "code",
   "execution_count": 29,
   "metadata": {},
   "outputs": [
    {
     "data": {
      "text/plain": [
       "(np.float64(1.0), np.float64(0.6))"
      ]
     },
     "execution_count": 29,
     "metadata": {},
     "output_type": "execute_result"
    }
   ],
   "source": [
    "fpr = np.mean([fnr >= 0.9 for fnr in res0])\n",
    "tpr = np.mean([fnr >= 0.9 for fnr in res1])\n",
    "tpr, fpr"
   ]
  },
  {
   "cell_type": "markdown",
   "metadata": {},
   "source": [
    "## Run with ArcNet as Model and Face Detection Preprocessing"
   ]
  },
  {
   "cell_type": "code",
   "execution_count": 2,
   "metadata": {},
   "outputs": [
    {
     "name": "stdout",
     "output_type": "stream",
     "text": [
      "Files already downloaded and verified\n",
      "=========CelebA dataset=========\n",
      "Number of subjects: 508\n",
      "Gallery set # subjects: 459, # images: 4122\n",
      "Proxy set # subjects: 457, # images: 1340\n",
      "# of subjects in proxy only: 49\n",
      "=================================\n",
      "Files already downloaded and verified\n",
      "=========CelebA dataset=========\n",
      "Number of subjects: 1017\n",
      "Gallery set # subjects: 921, # images: 4369\n",
      "Proxy set # subjects: 915, # images: 2661\n",
      "# of subjects in proxy only: 96\n",
      "=================================\n"
     ]
    }
   ],
   "source": [
    "# load 5% of the dataset\n",
    "gallery_data, proxy_data = load_CelebA(0.1, 0.1, 0.05, max_per_id=10)\n",
    "\n",
    "# Split into first 5 images for actual gallery, rest of images to be used in attack as members\n",
    "gallery_data_otherimages = gallery_data.copy()\n",
    "gallery_data['filename'] = gallery_data['filename'].apply(lambda x: x[:5])\n",
    "gallery_data_otherimages['filename'] = gallery_data_otherimages['filename'].apply(lambda x: x[5:] if len(x) > 5 else [])\n",
    "gallery_data_otherimages = gallery_data_otherimages[gallery_data_otherimages['filename'].apply(lambda x: len(x) > 0)].reset_index()\n",
    "\n",
    "# Load 10% of the dataset to be used in the attack as non-members\n",
    "gallery_data_nonmembers, _ = load_CelebA(0.1, 0.1, 0.10)"
   ]
  },
  {
   "cell_type": "code",
   "execution_count": 3,
   "metadata": {},
   "outputs": [],
   "source": [
    "version = 'v0'"
   ]
  },
  {
   "cell_type": "code",
   "execution_count": 48,
   "metadata": {},
   "outputs": [
    {
     "data": {
      "text/plain": [
       "<module 'benchmark_1N' from '/workspaces/face_recognition_privacy_attack/benchmark_1N.py'>"
      ]
     },
     "execution_count": 48,
     "metadata": {},
     "output_type": "execute_result"
    }
   ],
   "source": [
    "# reload benchmark_1N using importlib\n",
    "import importlib\n",
    "import benchmark_1N\n",
    "importlib.reload(benchmark_1N)"
   ]
  },
  {
   "cell_type": "code",
   "execution_count": 4,
   "metadata": {},
   "outputs": [
    {
     "name": "stderr",
     "output_type": "stream",
     "text": [
      "/usr/local/lib/python3.9/site-packages/onnxruntime/capi/onnxruntime_inference_collection.py:69: UserWarning: Specified provider 'CUDAExecutionProvider' is not in available provider names.Available providers: 'AzureExecutionProvider, CPUExecutionProvider'\n",
      "  warnings.warn(\n"
     ]
    },
    {
     "name": "stdout",
     "output_type": "stream",
     "text": [
      "Applied providers: ['CPUExecutionProvider'], with options: {'CPUExecutionProvider': {}}\n",
      "model ignore: /root/.insightface/models/buffalo_l/1k3d68.onnx landmark_3d_68\n",
      "Applied providers: ['CPUExecutionProvider'], with options: {'CPUExecutionProvider': {}}\n",
      "model ignore: /root/.insightface/models/buffalo_l/2d106det.onnx landmark_2d_106\n",
      "Applied providers: ['CPUExecutionProvider'], with options: {'CPUExecutionProvider': {}}\n",
      "find model: /root/.insightface/models/buffalo_l/det_10g.onnx detection [1, 3, '?', '?'] 127.5 128.0\n",
      "Applied providers: ['CPUExecutionProvider'], with options: {'CPUExecutionProvider': {}}\n",
      "model ignore: /root/.insightface/models/buffalo_l/genderage.onnx genderage\n",
      "Applied providers: ['CPUExecutionProvider'], with options: {'CPUExecutionProvider': {}}\n",
      "find model: /root/.insightface/models/buffalo_l/w600k_r50.onnx recognition ['None', 3, 112, 112] 127.5 127.5\n",
      "set det-size: (640, 640)\n",
      "Enrolling gallery templates...\n",
      "Enrolled gallery templates in 30.50 mins.\n",
      "Enrolling proxy templates...\n",
      "Enrolled proxy templates in 16.85 mins.\n",
      "Searching for proxy images in gallery...\n",
      "Search completed in 0.00 mins.\n"
     ]
    }
   ],
   "source": [
    "model = ArcFaceModel()\n",
    "benchmark = Benchmark(gallery_data, proxy_data)\n",
    "# run benchmark for 1:N search without adversarial attack to generate templates once\n",
    "benchmark.run_benchmark(model, SearchTemplate(), new_version_name=version, verbose=True)"
   ]
  },
  {
   "cell_type": "code",
   "execution_count": 6,
   "metadata": {},
   "outputs": [
    {
     "name": "stdout",
     "output_type": "stream",
     "text": [
      "FNR at FPR 0.001 0.051470588235294115\n",
      "FNR at FPR 0.05 0.049019607843137254\n"
     ]
    }
   ],
   "source": [
    "print(f'FNR at FPR 0.001 {benchmark.get_fnr_at_fpr_top1(0.001)}')\n",
    "print(f'FNR at FPR 0.05 {benchmark.get_fnr_at_fpr_top1(0.05)}')"
   ]
  },
  {
   "cell_type": "code",
   "execution_count": 7,
   "metadata": {},
   "outputs": [],
   "source": [
    "attack_templates, attack_templates_nonmember = prepare_attack_data(gallery_data_otherimages, gallery_data_nonmembers, model, new_version_name='v0', n_samples=25)"
   ]
  },
  {
   "cell_type": "code",
   "execution_count": 15,
   "metadata": {},
   "outputs": [],
   "source": [
    "search_attacks1, search_attacks0 = prepare_attack_searches(attack_templates, attack_templates_nonmember, 0.8)\n",
    "\n",
    "res0 = []\n",
    "for a in search_attacks0[:25]:\n",
    "    benchmark.run_benchmark(model, a, load_from_version='v0')\n",
    "    fnr1 = benchmark.get_fnr_at_fpr_top1(0.001)\n",
    "    res0.append(fnr1)\n",
    "\n",
    "res1 = []\n",
    "for a in search_attacks1[:25]:\n",
    "    benchmark.run_benchmark(model, a, load_from_version='v0')\n",
    "    fnr1 = benchmark.get_fnr_at_fpr_top1(0.001)\n",
    "    res1.append(fnr1)"
   ]
  },
  {
   "cell_type": "code",
   "execution_count": 19,
   "metadata": {},
   "outputs": [
    {
     "data": {
      "text/plain": [
       "np.float64(0.4688235294117647)"
      ]
     },
     "execution_count": 19,
     "metadata": {},
     "output_type": "execute_result"
    }
   ],
   "source": [
    "np.mean(res0)"
   ]
  },
  {
   "cell_type": "code",
   "execution_count": 18,
   "metadata": {},
   "outputs": [
    {
     "data": {
      "text/plain": [
       "np.float64(0.8102941176470587)"
      ]
     },
     "execution_count": 18,
     "metadata": {},
     "output_type": "execute_result"
    }
   ],
   "source": [
    "np.mean(res1)"
   ]
  },
  {
   "cell_type": "code",
   "execution_count": 20,
   "metadata": {},
   "outputs": [
    {
     "ename": "NameError",
     "evalue": "name 'res' is not defined",
     "output_type": "error",
     "traceback": [
      "\u001b[0;31m---------------------------------------------------------------------------\u001b[0m",
      "\u001b[0;31mNameError\u001b[0m                                 Traceback (most recent call last)",
      "Cell \u001b[0;32mIn[20], line 1\u001b[0m\n\u001b[0;32m----> 1\u001b[0m np\u001b[38;5;241m.\u001b[39mmean(\u001b[43mres\u001b[49m)\n",
      "\u001b[0;31mNameError\u001b[0m: name 'res' is not defined"
     ]
    }
   ],
   "source": [
    "np.mean(res)"
   ]
  },
  {
   "cell_type": "code",
   "execution_count": null,
   "metadata": {},
   "outputs": [],
   "source": []
  }
 ],
 "metadata": {
  "kernelspec": {
   "display_name": "Python 3",
   "language": "python",
   "name": "python3"
  },
  "language_info": {
   "codemirror_mode": {
    "name": "ipython",
    "version": 3
   },
   "file_extension": ".py",
   "mimetype": "text/x-python",
   "name": "python",
   "nbconvert_exporter": "python",
   "pygments_lexer": "ipython3",
   "version": "3.9.20"
  }
 },
 "nbformat": 4,
 "nbformat_minor": 2
}
